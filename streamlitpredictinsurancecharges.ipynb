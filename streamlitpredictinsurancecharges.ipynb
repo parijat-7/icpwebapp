{
 "cells": [
  {
   "cell_type": "markdown",
   "metadata": {},
   "source": [
    "# Predict insurance charges based on a person's attributes"
   ]
  },
  {
   "cell_type": "code",
   "execution_count": 1,
   "metadata": {},
   "outputs": [],
   "source": [
    "import pickle\n",
    "import numpy as np"
   ]
  },
  {
   "cell_type": "code",
   "execution_count": 2,
   "metadata": {},
   "outputs": [
    {
     "name": "stderr",
     "output_type": "stream",
     "text": [
      "c:\\Users\\hp\\AppData\\Local\\Programs\\Python\\Python310\\lib\\site-packages\\sklearn\\base.py:329: UserWarning: Trying to unpickle estimator DecisionTreeRegressor from version 0.24.2 when using version 1.0.2. This might lead to breaking code or invalid results. Use at your own risk. For more info please refer to:\n",
      "https://scikit-learn.org/stable/modules/model_persistence.html#security-maintainability-limitations\n",
      "  warnings.warn(\n",
      "c:\\Users\\hp\\AppData\\Local\\Programs\\Python\\Python310\\lib\\site-packages\\sklearn\\base.py:329: UserWarning: Trying to unpickle estimator RandomForestRegressor from version 0.24.2 when using version 1.0.2. This might lead to breaking code or invalid results. Use at your own risk. For more info please refer to:\n",
      "https://scikit-learn.org/stable/modules/model_persistence.html#security-maintainability-limitations\n",
      "  warnings.warn(\n"
     ]
    }
   ],
   "source": [
    "# load the model from disk\n",
    "loaded_model = pickle.load(open('streamlit_insurance_predictcharges.pkl', 'rb'))"
   ]
  },
  {
   "cell_type": "code",
   "execution_count": 3,
   "metadata": {},
   "outputs": [],
   "source": [
    "import streamlit as st"
   ]
  },
  {
   "cell_type": "code",
   "execution_count": 4,
   "metadata": {},
   "outputs": [
    {
     "name": "stderr",
     "output_type": "stream",
     "text": [
      "2022-08-15 18:31:59.155 \n",
      "  \u001b[33m\u001b[1mWarning:\u001b[0m to view this Streamlit app on a browser, run it with the following\n",
      "  command:\n",
      "\n",
      "    streamlit run C:\\Users\\hp\\AppData\\Roaming\\Python\\Python310\\site-packages\\ipykernel_launcher.py [ARGUMENTS]\n"
     ]
    },
    {
     "data": {
      "text/plain": [
       "DeltaGenerator(_root_container=0, _provided_cursor=None, _parent=None, _block_type=None, _form_data=None)"
      ]
     },
     "execution_count": 4,
     "metadata": {},
     "output_type": "execute_result"
    }
   ],
   "source": [
    "# Creating the Titles and Image\n",
    "st.title(\"Predict insurance charges\")\n",
    "st.header(\"Calculating the insurance charges that could be charged by an insurer based on a person's attributes\")"
   ]
  },
  {
   "cell_type": "code",
   "execution_count": 5,
   "metadata": {},
   "outputs": [],
   "source": [
    "import pandas as pd\n",
    "def load_data():\n",
    "    df = pd.DataFrame({'sex': ['Male','Female'],\n",
    "                       'smoker': ['Yes', 'No']}) \n",
    "    return df\n",
    "df = load_data()"
   ]
  },
  {
   "cell_type": "code",
   "execution_count": 6,
   "metadata": {},
   "outputs": [],
   "source": [
    "import pandas as pd\n",
    "def load_data():\n",
    "    df1 = pd.DataFrame({'region' : ['southeast' ,'northwest' ,'southwest' ,'northeast']}) \n",
    "    return df1\n",
    "df1 = load_data()"
   ]
  },
  {
   "cell_type": "code",
   "execution_count": 7,
   "metadata": {},
   "outputs": [
    {
     "name": "stderr",
     "output_type": "stream",
     "text": [
      "2022-08-15 18:32:24.271 Session state does not function when running a script without `streamlit run`\n"
     ]
    }
   ],
   "source": [
    "# Take the users input\n",
    "\n",
    "sex = st.selectbox(\"Select Sex\", df['sex'].unique())\n",
    "smoker = st.selectbox(\"Are you a smoker\", df['smoker'].unique())\n",
    "region = st.selectbox(\"Which region do you belong to?\", df1['region'].unique())\n",
    "age = st.slider(\"What is your age?\", 18, 100)\n",
    "bmi = st.slider(\"What is your bmi?\", 10, 60)\n",
    "children = st.slider(\"Number of children\", 0, 10)\n",
    "\n",
    "# converting text input to numeric to get back predictions from backend model.\n",
    "if sex == 'male':\n",
    "    gender = 1\n",
    "else:\n",
    "    gender = 0\n",
    "    \n",
    "if smoker == 'yes':\n",
    "    smoke = 1\n",
    "else:\n",
    "    smoke = 0\n",
    "    \n",
    "if region == 'southeast':\n",
    "    reg = 2\n",
    "elif region == 'northwest':\n",
    "    reg = 3\n",
    "elif region == 'southwest':\n",
    "    reg = 1\n",
    "else:\n",
    "    reg = 0\n",
    "    \n",
    "\n",
    "# store the inputs\n",
    "features = [gender, smoke, reg, age, bmi, children]\n",
    "# convert user inputs into an array fr the model\n",
    "\n",
    "int_features = [int(x) for x in features]\n",
    "final_features = [np.array(int_features)]"
   ]
  },
  {
   "cell_type": "code",
   "execution_count": 8,
   "metadata": {},
   "outputs": [],
   "source": [
    "if st.button('Predict'):           # when the submit button is pressed\n",
    "    prediction =  loaded_model.predict(final_features)\n",
    "    st.balloons()\n",
    "    st.success(f'Your insurance charges would be: ${round(prediction[0],2)}')\n",
    "    "
   ]
  }
 ],
 "metadata": {
  "kernelspec": {
   "display_name": "Python 3.10.0 64-bit",
   "language": "python",
   "name": "python3"
  },
  "language_info": {
   "codemirror_mode": {
    "name": "ipython",
    "version": 3
   },
   "file_extension": ".py",
   "mimetype": "text/x-python",
   "name": "python",
   "nbconvert_exporter": "python",
   "pygments_lexer": "ipython3",
   "version": "3.10.0"
  },
  "vscode": {
   "interpreter": {
    "hash": "63963b3f4c440940f0b94a3100916033a226cb4f45979123153792d60aa56d6a"
   }
  }
 },
 "nbformat": 4,
 "nbformat_minor": 2
}
