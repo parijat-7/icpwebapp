{
 "cells": [
  {
   "cell_type": "code",
   "execution_count": 9,
   "metadata": {},
   "outputs": [],
   "source": [
    "import numpy as np\n",
    "from flask import Flask, request, jsonify, render_template\n",
    "import pickle\n",
    "from sklearn.preprocessing import StandardScaler"
   ]
  },
  {
   "cell_type": "code",
   "execution_count": 10,
   "metadata": {},
   "outputs": [],
   "source": [
    "def ValuePredictor(new_l): \n",
    "    to_predict = np.array(new_l).reshape(1,7)\n",
    "    loaded_model = pickle.load(open(\"C:/Users/hp/OneDrive/Desktop/Insurance Claim Prediction Project/Insurace-Claim-Prediction-Machine-Learning-webApp/model.pkl\", \"rb\")) \n",
    "    result = loaded_model.predict(to_predict) \n",
    "    return result[0] "
   ]
  },
  {
   "cell_type": "code",
   "execution_count": 11,
   "metadata": {},
   "outputs": [],
   "source": [
    "app = Flask(__name__)\n",
    "@app.route('/')\n",
    "def home_():\n",
    "    return render_template(\"C:/Users/hp/OneDrive/Desktop/Insurance Claim Prediction Project/Insurace-Claim-Prediction-Machine-Learning-webApp/templates/index.html\")"
   ]
  },
  {
   "cell_type": "code",
   "execution_count": 12,
   "metadata": {},
   "outputs": [],
   "source": [
    "@app.route('/predict',methods=['POST','GET'])\n",
    "def predict():\n",
    "    if request.method == 'POST':\n",
    "        to_predict_list = request.form.to_dict() \n",
    "        to_predict_list = list(to_predict_list.values())\n",
    "        new_l=[]\n",
    "        for x in to_predict_list:\n",
    "            if x=='male':\n",
    "                new_l.append(1)\n",
    "            elif x=='female':\n",
    "                new_l.append(0)\n",
    "            elif x=='yes':\n",
    "                new_l.append(1)\n",
    "            elif x=='no':\n",
    "                new_l.append(0)\n",
    "            else:\n",
    "                new_l.append(x)\n",
    "        ss=StandardScaler()\n",
    "        new_l=ss.fit_transform([new_l])\n",
    "        new_l = list(map(float, new_l))\n",
    "        result = ValuePredictor(new_l)\n",
    "        if int(result)== 1:\n",
    "            prediction ='Yes person can claim insurance'\n",
    "        else:\n",
    "            prediction ='No person will not claim insurance'            \n",
    "    return render_template(\"C:/Users/hp/OneDrive/Desktop/Insurance Claim Prediction Project/Insurace-Claim-Prediction-Machine-Learning-webApp/templates/result.html\", prediction = prediction)"
   ]
  },
  {
   "cell_type": "code",
   "execution_count": 14,
   "metadata": {},
   "outputs": [
    {
     "name": "stdout",
     "output_type": "stream",
     "text": [
      " * Serving Flask app \"__main__\" (lazy loading)\n",
      " * Environment: production\n",
      "\u001b[31m   WARNING: This is a development server. Do not use it in a production deployment.\u001b[0m\n",
      "\u001b[2m   Use a production WSGI server instead.\u001b[0m\n",
      " * Debug mode: on\n"
     ]
    },
    {
     "name": "stderr",
     "output_type": "stream",
     "text": [
      " * Restarting with watchdog (windowsapi)\n"
     ]
    },
    {
     "ename": "SystemExit",
     "evalue": "1",
     "output_type": "error",
     "traceback": [
      "An exception has occurred, use %tb to see the full traceback.\n",
      "\u001b[1;31mSystemExit\u001b[0m\u001b[1;31m:\u001b[0m 1\n"
     ]
    }
   ],
   "source": [
    "if __name__ == \"__main__\":\n",
    "    app.run(debug=True)\n",
    "    "
   ]
  }
 ],
 "metadata": {
  "kernelspec": {
   "display_name": "Python 3.9.7 ('base')",
   "language": "python",
   "name": "python3"
  },
  "language_info": {
   "codemirror_mode": {
    "name": "ipython",
    "version": 3
   },
   "file_extension": ".py",
   "mimetype": "text/x-python",
   "name": "python",
   "nbconvert_exporter": "python",
   "pygments_lexer": "ipython3",
   "version": "3.9.7"
  },
  "orig_nbformat": 4,
  "vscode": {
   "interpreter": {
    "hash": "b302cdd1e032ee910f5c889c3360c28564c92ad4f326fc3102e39fbe47faee66"
   }
  }
 },
 "nbformat": 4,
 "nbformat_minor": 2
}
